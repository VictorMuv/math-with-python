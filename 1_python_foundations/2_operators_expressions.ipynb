{
 "cells": [
  {
   "cell_type": "markdown",
   "metadata": {},
   "source": [
    "# Operators & Expressions\n",
    "## Mathematical Operations in Code\n",
    "\n",
    "[![Open In Colab](https://colab.research.google.com/assets/colab-badge.svg)](https://colab.research.google.com/github/VictorMuv/math-with-python/blob/main/1_python_foundations/2_operators_expressions.ipynb)\n",
    "\n",
    "### Traditional Algebra\n",
    "Operations follow PEMDAS rules:\n",
    "`(3 + 2) × 4 ÷ 2 - 5`\n",
    "\n",
    "### Python Implementation\n",
    "```python\n",
    "# PEP 8 spacing around operators\n",
    "result = (3 + 2) * 4 / 2 - 5  # → 5.0\n",
    "\n",
    "# Special operators:\n",
    "exponent = 2 ** 3  # 8 (power)\n",
    "modulus = 11 % 3    # 2 (remainder)\n",
    "\n",
    "# Algebra application: Compound interest\n",
    "principal = 1000\n",
    "rate = 0.05\n",
    "years = 3\n",
    "amount = principal * (1 + rate) ** years  # 1157.63\n",
    "```\n",
    "\n",
    "### Why Python is Better\n",
    "- Handles complex nesting: `√(b² - 4ac)` → `(b**2 - 4*a*c)**0.5`\n",
    "- Exact calculations: `0.1 + 0.2` vs manual fraction addition\n",
    "\n",
    "### Challenge\n",
    "Compute the discriminant for quadratic formula:\n",
    "`D = b² - 4ac` given:\n",
    "- a = 2\n",
    "- b = -5\n",
    "- c = 3\n",
    "\n",
    "```python\n",
    "# Student's workspace\n",
    "a = ?\n",
    "b = ?\n",
    "c = ?\n",
    "D = ?  # Your solution\n",
    "```"
   ]
  },
  {
   "cell_type": "code",
   "execution_count": null,
   "metadata": {},
   "outputs": [],
   "source": [
    "# Solution\n",
    "a, b, c = 2, -5, 3\n",
    "D = b**2 - 4*a*c\n",
    "print(f\"Discriminant = {D}\")  # → 1 (perfect square)"
   ]
  }
 ],
 "metadata": {}
}
